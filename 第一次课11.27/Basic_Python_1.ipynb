{
 "cells": [
  {
   "cell_type": "markdown",
   "metadata": {
    "slideshow": {
     "slide_type": "slide"
    }
   },
   "source": [
    "#### 基本问题"
   ]
  },
  {
   "cell_type": "markdown",
   "metadata": {
    "slideshow": {
     "slide_type": "slide"
    }
   },
   "source": [
    "* 我们的工作是写稿件，为什么要学编程？（学还是不学？）\n",
    "* 为什么要学python？（为什么是这个语言？）\n",
    "* 为什么要学文本分析？(为什么是这个方向？）\n",
    "* 除了从『print(\"Hello World\")』一五一十的写起之外，该怎样学习python？（该怎么学？）"
   ]
  },
  {
   "cell_type": "markdown",
   "metadata": {
    "slideshow": {
     "slide_type": "slide"
    }
   },
   "source": [
    "#### 学习策略"
   ]
  },
  {
   "cell_type": "markdown",
   "metadata": {
    "slideshow": {
     "slide_type": "slide"
    }
   },
   "source": [
    "* 怎样也好，调动你的所有意志力，至少把基础中的基础，全部抄一遍。\n",
    "* 找一些你感兴趣的日常问题，想办法去研究并且自主攻克它。\n",
    "* 在工作和生活中用上它，找到一定的“优越感”。\n",
    "* 学有余力，去攻克困难算法、学数学。"
   ]
  },
  {
   "cell_type": "markdown",
   "metadata": {
    "slideshow": {
     "slide_type": "slide"
    }
   },
   "source": [
    "#### Python语言学习重点"
   ]
  },
  {
   "cell_type": "markdown",
   "metadata": {
    "slideshow": {
     "slide_type": "slide"
    }
   },
   "source": [
    "python语言规范\n",
    "> https://zh-google-styleguide.readthedocs.io/en/latest/google-python-styleguide/python_style_rules/#todo"
   ]
  },
  {
   "cell_type": "code",
   "execution_count": 20,
   "metadata": {
    "slideshow": {
     "slide_type": "slide"
    }
   },
   "outputs": [
    {
     "name": "stdout",
     "output_type": "stream",
     "text": [
      "5\n"
     ]
    }
   ],
   "source": [
    "# 学习python基础时候的一些要点\n",
    "\n",
    "# 三种数据类型\n",
    "int_a = 1\n",
    "float_b = 1.888888\n",
    "string_c = \"string\"\n",
    "\n",
    "# 四种最基本数据结构\n",
    "list_a = [\"1\",\"2\"]\n",
    "tuple_b = (\"1\",\"2\")\n",
    "dict_c = {\"a\":\"b\"}\n",
    "set_d = set()\n",
    "\n",
    "# 循环、判断、调试语句\n",
    "for i in range(1,10):\n",
    "    if i % 5 == 0:\n",
    "        try:\n",
    "            print(i)\n",
    "        except Exception as e:\n",
    "            pass"
   ]
  },
  {
   "cell_type": "code",
   "execution_count": 36,
   "metadata": {
    "slideshow": {
     "slide_type": "slide"
    }
   },
   "outputs": [
    {
     "data": {
      "text/plain": [
       "[1, 4, 9, 16, 25, 36, 49, 64, 81]"
      ]
     },
     "execution_count": 36,
     "metadata": {},
     "output_type": "execute_result"
    }
   ],
   "source": [
    "# 函数式编程\n",
    "def f(x):\n",
    "    return x * x\n",
    "\n",
    "r = map(f, [1, 2, 3, 4, 5, 6, 7, 8, 9])\n",
    "list(r)\n",
    "\n",
    "# 匿名&高阶函数\n",
    "# map-reduce思想\n",
    "# list(map(lambda x:pow(x,2),range(1,10)))"
   ]
  },
  {
   "cell_type": "code",
   "execution_count": 37,
   "metadata": {},
   "outputs": [
    {
     "data": {
      "text/plain": [
       "[1, 4, 9, 16, 25, 36, 49, 64, 81]"
      ]
     },
     "execution_count": 37,
     "metadata": {},
     "output_type": "execute_result"
    }
   ],
   "source": [
    "list(map(lambda x:pow(x,2),range(1,10)))"
   ]
  },
  {
   "cell_type": "code",
   "execution_count": 2,
   "metadata": {
    "slideshow": {
     "slide_type": "slide"
    }
   },
   "outputs": [
    {
     "name": "stdout",
     "output_type": "stream",
     "text": [
      "[[1, 5, 9], [2, 6, 10], [3, 7, 11], [4, 8, 12]]\n"
     ]
    },
    {
     "data": {
      "text/plain": [
       "array([[ 1,  5,  9],\n",
       "       [ 2,  6, 10],\n",
       "       [ 3,  7, 11],\n",
       "       [ 4,  8, 12]])"
      ]
     },
     "execution_count": 2,
     "metadata": {},
     "output_type": "execute_result"
    }
   ],
   "source": [
    "# 为什么说人生苦短我用python\n",
    "# 因为这门语言每句都能缩写、再缩写。\n",
    "matrix = [\n",
    "[1, 2, 3, 4],\n",
    "[5, 6, 7, 8],\n",
    "[9, 10, 11, 12],\n",
    "]\n",
    "\n",
    "print([[row[i] for row in matrix] for i in range(4)])\n",
    "\n",
    "import numpy as np\n",
    "\n",
    "matrix = np.arange(1,13).reshape([3,4])\n",
    "matrix.transpose()"
   ]
  },
  {
   "cell_type": "code",
   "execution_count": 41,
   "metadata": {
    "slideshow": {
     "slide_type": "slide"
    }
   },
   "outputs": [
    {
     "name": "stdout",
     "output_type": "stream",
     "text": [
      "7\n",
      "2\n",
      "dog is barking\n"
     ]
    }
   ],
   "source": [
    "# python面向对象\n",
    "\n",
    "class Dog():\n",
    "    def run():\n",
    "        print(\"dog is running\")\n",
    "    \n",
    "    def bark():\n",
    "        print(\"dog is barking\")\n",
    "\n",
    "class A(Dog):\n",
    "    def __init__(self):\n",
    "        self.para_a = 1\n",
    "        self.para_b = 2\n",
    "    \n",
    "    def B(self,c):\n",
    "        return c * self.para_a + self.para_b\n",
    "    \n",
    "    def C(self,c):\n",
    "        return c + self.para_a - self.para_b\n",
    "    \n",
    "a = A()\n",
    "print(a.B(5))\n",
    "print(a.C(3))\n",
    "A.bark()"
   ]
  },
  {
   "cell_type": "code",
   "execution_count": 39,
   "metadata": {
    "slideshow": {
     "slide_type": "slide"
    }
   },
   "outputs": [],
   "source": [
    "# 标准库和常用模块\n",
    "# 内建模块\n",
    "import os # 系统操作\n",
    "import re # 正则表达式\n",
    "from collections import Counter # 集合工具\n",
    "import datetime # 时间工具\n",
    "import time\n",
    "\n",
    "# 数据分析\n",
    "import pandas as pd # 数据分析\n",
    "import numpy as np # 线性代数工具\n",
    "import scipy # 数学工具、微积分、统计、科学计算\n",
    "\n",
    "# 爬虫工具\n",
    "import requests \n",
    "import urllib # TCP操作\n",
    "from bs4 import BeautifulSoup\n",
    "import lxml # 网站解析\n",
    "\n",
    "# 文本分析\n",
    "import jieba #　分词\n",
    "from pyhanlp import *\n",
    "import nltk #　英文"
   ]
  },
  {
   "cell_type": "markdown",
   "metadata": {
    "slideshow": {
     "slide_type": "slide"
    }
   },
   "source": [
    "#### Anaconda的使用"
   ]
  }
 ],
 "metadata": {
  "kernelspec": {
   "display_name": "Python 3",
   "language": "python",
   "name": "python3"
  },
  "language_info": {
   "codemirror_mode": {
    "name": "ipython",
    "version": 3
   },
   "file_extension": ".py",
   "mimetype": "text/x-python",
   "name": "python",
   "nbconvert_exporter": "python",
   "pygments_lexer": "ipython3",
   "version": "3.7.3"
  },
  "latex_envs": {
   "LaTeX_envs_menu_present": true,
   "autoclose": false,
   "autocomplete": true,
   "bibliofile": "biblio.bib",
   "cite_by": "apalike",
   "current_citInitial": 1,
   "eqLabelWithNumbers": true,
   "eqNumInitial": 1,
   "hotkeys": {
    "equation": "Ctrl-E",
    "itemize": "Ctrl-I"
   },
   "labels_anchors": false,
   "latex_user_defs": false,
   "report_style_numbering": false,
   "user_envs_cfg": false
  },
  "toc": {
   "base_numbering": 1,
   "nav_menu": {},
   "number_sections": true,
   "sideBar": true,
   "skip_h1_title": false,
   "title_cell": "Table of Contents",
   "title_sidebar": "Contents",
   "toc_cell": false,
   "toc_position": {},
   "toc_section_display": true,
   "toc_window_display": true
  }
 },
 "nbformat": 4,
 "nbformat_minor": 2
}
