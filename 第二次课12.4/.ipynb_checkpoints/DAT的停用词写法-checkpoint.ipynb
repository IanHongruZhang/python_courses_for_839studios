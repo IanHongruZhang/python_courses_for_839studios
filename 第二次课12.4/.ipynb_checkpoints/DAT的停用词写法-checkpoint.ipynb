{
 "cells": [
  {
   "cell_type": "code",
   "execution_count": 2,
   "metadata": {},
   "outputs": [],
   "source": [
    "from jpype import JString\n",
    "from pyhanlp import *\n",
    "\n",
    "def load_from_file(path):\n",
    "    \"\"\"\n",
    "    从词典文件加载DoubleArrayTrie\n",
    "    :param path: 词典路径\n",
    "    :return: 双数组trie树\n",
    "    \"\"\"\n",
    "    map_f = JClass('java.util.TreeMap')()\n",
    "    with open(path) as src:\n",
    "        for word in src:\n",
    "            word = word.strip()\n",
    "            map_f[\"word\"] = word\n",
    "    return JClass(\"com.hankcs.hanlp.collection.trie.DoubleArrayTrie\")(map_f)\n",
    "\n",
    "def load_from_words(*words):\n",
    "    \"\"\"\n",
    "    从词汇构造双数组trie树\n",
    "    :param words: 一系列词语\n",
    "    :return:\n",
    "    \"\"\"\n",
    "    map_f = JClass(\"java.util.TreeMap\")()\n",
    "    for word in words:\n",
    "        map_f[word] = word\n",
    "    return JClass(\"com.hankcs.hanlp.collection.trie.DoubleArrayTrie\")(map_f)"
   ]
  },
  {
   "cell_type": "code",
   "execution_count": null,
   "metadata": {},
   "outputs": [],
   "source": []
  }
 ],
 "metadata": {
  "kernelspec": {
   "display_name": "Python 3",
   "language": "python",
   "name": "python3"
  },
  "language_info": {
   "codemirror_mode": {
    "name": "ipython",
    "version": 3
   },
   "file_extension": ".py",
   "mimetype": "text/x-python",
   "name": "python",
   "nbconvert_exporter": "python",
   "pygments_lexer": "ipython3",
   "version": "3.7.3"
  },
  "latex_envs": {
   "LaTeX_envs_menu_present": true,
   "autoclose": false,
   "autocomplete": true,
   "bibliofile": "biblio.bib",
   "cite_by": "apalike",
   "current_citInitial": 1,
   "eqLabelWithNumbers": true,
   "eqNumInitial": 1,
   "hotkeys": {
    "equation": "Ctrl-E",
    "itemize": "Ctrl-I"
   },
   "labels_anchors": false,
   "latex_user_defs": false,
   "report_style_numbering": false,
   "user_envs_cfg": false
  },
  "toc": {
   "base_numbering": 1,
   "nav_menu": {},
   "number_sections": true,
   "sideBar": true,
   "skip_h1_title": false,
   "title_cell": "Table of Contents",
   "title_sidebar": "Contents",
   "toc_cell": false,
   "toc_position": {},
   "toc_section_display": true,
   "toc_window_display": false
  }
 },
 "nbformat": 4,
 "nbformat_minor": 2
}
