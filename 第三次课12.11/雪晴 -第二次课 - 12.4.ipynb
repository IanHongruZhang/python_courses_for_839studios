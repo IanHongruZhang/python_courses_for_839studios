{
 "cells": [
  {
   "cell_type": "code",
   "execution_count": null,
   "metadata": {},
   "outputs": [],
   "source": [
    "# 题目1：生成一个5位数，要求：一、求它是几位数，二、逆序打印出各位数字。\n",
    "import random\n",
    "# 最后输出要求：[5,25341]"
   ]
  },
  {
   "cell_type": "code",
   "execution_count": 116,
   "metadata": {},
   "outputs": [
    {
     "name": "stdout",
     "output_type": "stream",
     "text": [
      "5\n",
      "55538\n",
      "83555\n"
     ]
    }
   ],
   "source": [
    "import random\n",
    "a=random.randint(10000,100000)\n",
    "#a是几位数?\n",
    "b=len(str(a))\n",
    "print(b)\n",
    "#逆序打印各位数字\n",
    "c=str(a)\n",
    "print(c)\n",
    "print(c[::-1])"
   ]
  },
  {
   "cell_type": "code",
   "execution_count": 117,
   "metadata": {},
   "outputs": [],
   "source": [
    "# 题目2：反转字符串，输入\"hello\"，输出\"olleh\"\n",
    "string = \"hello\"\n",
    "# 最后要求输出：\"olleh\"，使用三种方法。"
   ]
  },
  {
   "cell_type": "code",
   "execution_count": 19,
   "metadata": {},
   "outputs": [
    {
     "name": "stdout",
     "output_type": "stream",
     "text": [
      "olleh\n"
     ]
    }
   ],
   "source": [
    "#方法1：\n",
    "string = \"hello\"\n",
    "print(string[::-1])"
   ]
  },
  {
   "cell_type": "code",
   "execution_count": 102,
   "metadata": {},
   "outputs": [
    {
     "name": "stdout",
     "output_type": "stream",
     "text": [
      "['h', 'e', 'l', 'l', 'o']\n",
      "olleh\n"
     ]
    }
   ],
   "source": [
    "#方法2：\n",
    "string = \"hello\"\n",
    "order = []\n",
    "for i in string:\n",
    "    order.append(i)\n",
    "print(order)\n",
    "order.reverse()\n",
    "print(\"\".join(order))"
   ]
  },
  {
   "cell_type": "code",
   "execution_count": 14,
   "metadata": {},
   "outputs": [
    {
     "data": {
      "text/plain": [
       "'olleh'"
      ]
     },
     "execution_count": 14,
     "metadata": {},
     "output_type": "execute_result"
    }
   ],
   "source": [
    "#方法3：\n",
    "string = \"hello\"\n",
    "from functools import reduce\n",
    "order = reduce(lambda x,y:y+x,string)\n",
    "order"
   ]
  },
  {
   "cell_type": "code",
   "execution_count": null,
   "metadata": {},
   "outputs": [],
   "source": [
    "import functoools\n",
    "\n",
    "# map.filter"
   ]
  },
  {
   "cell_type": "code",
   "execution_count": 15,
   "metadata": {},
   "outputs": [
    {
     "data": {
      "text/plain": [
       "15"
      ]
     },
     "execution_count": 15,
     "metadata": {},
     "output_type": "execute_result"
    }
   ],
   "source": [
    "from functools import reduce\n",
    "\n",
    "reduce(lambda x,y:x + y,[1,2,3,4,5])"
   ]
  },
  {
   "cell_type": "code",
   "execution_count": null,
   "metadata": {},
   "outputs": [],
   "source": [
    "# 题目3：有四个数字：1、2、3、4，能组成多少个互不相同且无重复数字的三位数？各是什么？\n",
    "i,j,k,l = 1,2,3,4\n",
    "\n",
    "# 最后要求输出：[123,124,234,134,......]"
   ]
  },
  {
   "cell_type": "code",
   "execution_count": 95,
   "metadata": {},
   "outputs": [
    {
     "data": {
      "text/plain": [
       "[123,\n",
       " 124,\n",
       " 132,\n",
       " 134,\n",
       " 142,\n",
       " 143,\n",
       " 213,\n",
       " 214,\n",
       " 231,\n",
       " 234,\n",
       " 241,\n",
       " 243,\n",
       " 312,\n",
       " 314,\n",
       " 321,\n",
       " 324,\n",
       " 341,\n",
       " 342,\n",
       " 412,\n",
       " 413,\n",
       " 421,\n",
       " 423,\n",
       " 431,\n",
       " 432]"
      ]
     },
     "execution_count": 95,
     "metadata": {},
     "output_type": "execute_result"
    }
   ],
   "source": [
    "li = [1,2,3,4]\n",
    "new_li = []\n",
    "for a in li:\n",
    "    for b in li:\n",
    "        for c in li:\n",
    "            if a!=b and a!=c and c!=b:\n",
    "                d = a*100+b*10+c\n",
    "                new_li.append(d)\n",
    "new_li"
   ]
  },
  {
   "cell_type": "code",
   "execution_count": null,
   "metadata": {},
   "outputs": [],
   "source": [
    "# 题目4：给定按相反的顺序输出列表的值，并且去重。\n",
    "li = [4, 3, 2, 1, 1, 2, 3, 6, 2, 2, 3, 6, 2, 3, 7, 3, 3]\n",
    "\n",
    "# 最后要求输出：相反的list,且不能有重复。"
   ]
  },
  {
   "cell_type": "code",
   "execution_count": 55,
   "metadata": {},
   "outputs": [
    {
     "name": "stdout",
     "output_type": "stream",
     "text": [
      "[3, 3, 7, 3, 2, 6, 3, 2, 2, 6, 3, 2, 1, 1, 2, 3, 4]\n",
      "[3, 7, 2, 6, 1, 4]\n"
     ]
    }
   ],
   "source": [
    "#输出逆序的list\n",
    "li = [4, 3, 2, 1, 1, 2, 3, 6, 2, 2, 3, 6, 2, 3, 7, 3, 3]\n",
    "li2 = li[::-1]\n",
    "print(li2)\n",
    "#对新列表进行去重\n",
    "li3 = []\n",
    "for i in li2:\n",
    "    if i not in li3:\n",
    "        li3.append(i)\n",
    "print(li3)"
   ]
  },
  {
   "cell_type": "code",
   "execution_count": null,
   "metadata": {},
   "outputs": [],
   "source": [
    "# 题目5：给定一个name_list = ['adam', 'LISA', 'barT'],输出首字母大写，后续字母小写的list\n",
    "def normalize(name):\n",
    "    pass\n",
    "\n",
    "# 最后要求输出name_list = ['Adam', 'List', 'bart']"
   ]
  },
  {
   "cell_type": "code",
   "execution_count": 87,
   "metadata": {},
   "outputs": [
    {
     "name": "stdout",
     "output_type": "stream",
     "text": [
      "['Adam', 'Lisa', 'Bart']\n"
     ]
    }
   ],
   "source": [
    "name_list = ['adam', 'LISA', 'barT']\n",
    "def normalize(name):\n",
    "    return(name.capitalize())\n",
    "\n",
    "new_list = []\n",
    "for i in name_list:\n",
    "    new_list.append(normalize(i))\n",
    "\n",
    "\n",
    "print(new_list)   "
   ]
  },
  {
   "cell_type": "code",
   "execution_count": null,
   "metadata": {},
   "outputs": [],
   "source": [
    "# lambda函数\n",
    "# 题目6：请将列表[1,2,3,4,5]使用python方法转变成[1,4,9,16,25]。然后提取大于10的数，最终输出[16,25]\n",
    "li = [1,2,3,4,5]\n",
    "\n",
    "# 最后要求输出:[16,25]，必须使用lambda方法。"
   ]
  },
  {
   "cell_type": "code",
   "execution_count": 115,
   "metadata": {},
   "outputs": [
    {
     "data": {
      "text/plain": [
       "[16, 25]"
      ]
     },
     "execution_count": 115,
     "metadata": {},
     "output_type": "execute_result"
    }
   ],
   "source": [
    "li = [1,2,3,4,5]\n",
    "li2 = list(filter(lambda x:(x*x>10),li))\n",
    "li3 = list(map(lambda x:x*x,li2))\n",
    "li3"
   ]
  },
  {
   "cell_type": "code",
   "execution_count": null,
   "metadata": {},
   "outputs": [],
   "source": []
  },
  {
   "cell_type": "code",
   "execution_count": null,
   "metadata": {},
   "outputs": [],
   "source": []
  },
  {
   "cell_type": "code",
   "execution_count": null,
   "metadata": {},
   "outputs": [],
   "source": []
  },
  {
   "cell_type": "code",
   "execution_count": null,
   "metadata": {},
   "outputs": [],
   "source": []
  },
  {
   "cell_type": "code",
   "execution_count": null,
   "metadata": {},
   "outputs": [],
   "source": []
  },
  {
   "cell_type": "code",
   "execution_count": null,
   "metadata": {},
   "outputs": [],
   "source": []
  },
  {
   "cell_type": "code",
   "execution_count": null,
   "metadata": {},
   "outputs": [],
   "source": []
  }
 ],
 "metadata": {
  "kernelspec": {
   "display_name": "Python 3",
   "language": "python",
   "name": "python3"
  },
  "language_info": {
   "codemirror_mode": {
    "name": "ipython",
    "version": 3
   },
   "file_extension": ".py",
   "mimetype": "text/x-python",
   "name": "python",
   "nbconvert_exporter": "python",
   "pygments_lexer": "ipython3",
   "version": "3.7.3"
  },
  "latex_envs": {
   "LaTeX_envs_menu_present": true,
   "autoclose": false,
   "autocomplete": true,
   "bibliofile": "biblio.bib",
   "cite_by": "apalike",
   "current_citInitial": 1,
   "eqLabelWithNumbers": true,
   "eqNumInitial": 1,
   "hotkeys": {
    "equation": "Ctrl-E",
    "itemize": "Ctrl-I"
   },
   "labels_anchors": false,
   "latex_user_defs": false,
   "report_style_numbering": false,
   "user_envs_cfg": false
  },
  "toc": {
   "base_numbering": 1,
   "nav_menu": {},
   "number_sections": true,
   "sideBar": true,
   "skip_h1_title": false,
   "title_cell": "Table of Contents",
   "title_sidebar": "Contents",
   "toc_cell": false,
   "toc_position": {},
   "toc_section_display": true,
   "toc_window_display": false
  }
 },
 "nbformat": 4,
 "nbformat_minor": 2
}
