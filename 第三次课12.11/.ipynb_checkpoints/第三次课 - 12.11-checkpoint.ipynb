{
 "cells": [
  {
   "cell_type": "markdown",
   "metadata": {},
   "source": [
    "#### 第三次课\n",
    "1.前15分钟：作业的讲解。\n",
    "\n",
    "2.后45分钟，正则表达式的学习。\n",
    "\n",
    "2.2.用在哪些方面？"
   ]
  },
  {
   "cell_type": "markdown",
   "metadata": {},
   "source": [
    "#### 正则表达式\n",
    "1.什么是正则表达式。\n",
    "\n",
    "2.怎么学习正则表达式。\n",
    "\n",
    "3.常用的正则表达式写法。"
   ]
  },
  {
   "cell_type": "markdown",
   "metadata": {},
   "source": [
    "> 如果你不觉得正则表达式很难读写的话，要么你是一个天才，要么，你不是地球人。正则表达式的语法很令人头疼，即使对经常使用它的人来说也是如此。由于难于读写，容易出错，所以找一种工具对正则表达式进行测试是很有必要的。\n",
    "\n",
    "![正则](https://pic4.zhimg.com/80/1ed36c3711d5feaa705753562bb6bcfb_hd.jpg)"
   ]
  },
  {
   "cell_type": "code",
   "execution_count": 4,
   "metadata": {},
   "outputs": [
    {
     "name": "stdout",
     "output_type": "stream",
     "text": [
      "cat\n"
     ]
    }
   ],
   "source": [
    "import re\n",
    "text = \"The cat sat on the mat\"\n",
    "\n",
    "pattern = re.compile(\"cat\")\n",
    "cat = re.search(pattern,text).group()\n",
    "print(cat)\n",
    "\n",
    "# re.sub(\"\")\n",
    "# re.match(\"\")\n",
    "# re.findall(\"\")\n",
    "# re.finditer(\"\")"
   ]
  },
  {
   "cell_type": "code",
   "execution_count": 5,
   "metadata": {},
   "outputs": [],
   "source": [
    "# 四个基本符号：+ . * ?\n",
    "# 一堆非基本符号：\\f \\s \\S \n",
    "# 特殊字符：$^\n",
    "\n",
    "# 可能常用的一些：\n",
    "# 全能匹配符:.*?（懒惰匹配：匹配任意数量的重复，但是在能使整个匹配成功的前提下使用最少的重复。）\n",
    "# 汉字匹配:[\\u4e00-\\u9fa5]\n",
    "# 匹配网址 URL 的正则表达式：[a-zA-z]+://[^\\s]*\n",
    "# 电话号码：0\\d\\d-\\d\\d\\d\\d\\d\\d\\d\\d，0\\d{2}-\\d{8}\n",
    "# ip：(\\d{1,3}.){3}\\d{1,3}\n",
    "# 匹配5-12位的密码：^\\d{5,12}$\n",
    "\n",
    "# https://blog.csdn.net/wangjia55/article/details/7877915"
   ]
  },
  {
   "cell_type": "code",
   "execution_count": null,
   "metadata": {},
   "outputs": [],
   "source": [
    "# 正则较高境界：\n",
    "\"\"\"\n",
    "密码由至少包含数字跟字母，可以有字符；密码长度6-20位。\n",
    "\"\"\"\n",
    "# (?=.*([a-zA-Z].*))(?=.*[0-9].*)[a-zA-Z0-9-*/+.~!@#$%^&*()]{6,20}$\n",
    "# ^(?=.*[0-9])(?=.*[a-zA-Z])(?=.*[!@#$_&*+-])[0-9a-zA-Z!@#$_&*+-]{6,20}$"
   ]
  },
  {
   "cell_type": "code",
   "execution_count": 11,
   "metadata": {},
   "outputs": [],
   "source": [
    "import re\n",
    "import pandas as pd\n",
    "import numpy as np\n",
    "\n",
    "table = pd.read_csv(\"红楼梦.txt\",encoding = \"utf-8\")\n",
    "table.columns = [\"text\"]\n",
    "corpus = \"\".join(table[\"text\"])"
   ]
  },
  {
   "cell_type": "code",
   "execution_count": 39,
   "metadata": {
    "code_folding": [
     5,
     9
    ]
   },
   "outputs": [
    {
     "name": "stdout",
     "output_type": "stream",
     "text": [
      "3989\n"
     ]
    }
   ],
   "source": [
    "import jieba\n",
    "# 查特定词的词频？\n",
    "print(len(re.findall(\"宝玉\",corpus)))\n",
    "\n",
    "# 林黛玉干过些啥？\n",
    "def clean(sentence):\n",
    "    pattern_punctuation = re.compile(\"[，。？、]\")\n",
    "    return re.sub(pattern_punctuation,\"\",sentence)\n",
    "\n",
    "def find_daiyu_verb(corpus):\n",
    "    pattern_daiyu = re.compile(\"黛玉.*?[，。？、]\")\n",
    "    \n",
    "    # [，。？、].?宝玉.*?，[，。？、]\n",
    "    sentences = re.findall(pattern_daiyu,corpus)\n",
    "    clean_sentences = list(map(clean,sentences)) \n",
    "    \n",
    "    # 过滤标点\n",
    "    clean_sentences_ = list(filter(lambda x:len(x) != 2,clean_sentences)) \n",
    "    \n",
    "    # 把只有“黛玉”两个字的句子去掉\n",
    "    return clean_sentences_\n",
    "\n",
    "sentence_list = find_daiyu_verb(corpus)"
   ]
  },
  {
   "cell_type": "code",
   "execution_count": 71,
   "metadata": {},
   "outputs": [],
   "source": [
    "import jieba.posseg\n",
    "import pandas as pd\n",
    "\n",
    "def analysis_verb(sentence_list):\n",
    "    wordpair_list = list(map(lambda x:jieba.posseg.lcut(x),sentence_list))\n",
    "    word_list,flag_list = [],[]\n",
    "    for sen in wordpair_list:\n",
    "        for word,flag in sen:\n",
    "            word_list.append(word)\n",
    "            flag_list.append(flag)\n",
    "    table_every_word = pd.DataFrame([word_list,flag_list]).T\n",
    "    table_every_word.columns = [\"word\",\"flag\"]\n",
    "    table_verbs = table_every_word[table_every_word[\"flag\"] == \"v\"]\n",
    "    table_verbs.groupby(\"word\").count().sort_values(\"flag\",ascending = False)\n",
    "    return table_verbs\n",
    "\n",
    "table_verbs = analysis_verb(sentence_list)"
   ]
  },
  {
   "cell_type": "code",
   "execution_count": 77,
   "metadata": {},
   "outputs": [
    {
     "data": {
      "text/html": [
       "<div>\n",
       "<style scoped>\n",
       "    .dataframe tbody tr th:only-of-type {\n",
       "        vertical-align: middle;\n",
       "    }\n",
       "\n",
       "    .dataframe tbody tr th {\n",
       "        vertical-align: top;\n",
       "    }\n",
       "\n",
       "    .dataframe thead th {\n",
       "        text-align: right;\n",
       "    }\n",
       "</style>\n",
       "<table border=\"1\" class=\"dataframe\">\n",
       "  <thead>\n",
       "    <tr style=\"text-align: right;\">\n",
       "      <th></th>\n",
       "      <th>word</th>\n",
       "      <th>flag</th>\n",
       "    </tr>\n",
       "  </thead>\n",
       "  <tbody>\n",
       "    <tr>\n",
       "      <th>1</th>\n",
       "      <td>抛</td>\n",
       "      <td>v</td>\n",
       "    </tr>\n",
       "    <tr>\n",
       "      <th>3</th>\n",
       "      <td>进京</td>\n",
       "      <td>v</td>\n",
       "    </tr>\n",
       "    <tr>\n",
       "      <th>9</th>\n",
       "      <td>却说</td>\n",
       "      <td>v</td>\n",
       "    </tr>\n",
       "    <tr>\n",
       "      <th>11</th>\n",
       "      <td>忙</td>\n",
       "      <td>v</td>\n",
       "    </tr>\n",
       "    <tr>\n",
       "      <th>12</th>\n",
       "      <td>回头</td>\n",
       "      <td>v</td>\n",
       "    </tr>\n",
       "  </tbody>\n",
       "</table>\n",
       "</div>"
      ],
      "text/plain": [
       "   word flag\n",
       "1     抛    v\n",
       "3    进京    v\n",
       "9    却说    v\n",
       "11    忙    v\n",
       "12   回头    v"
      ]
     },
     "execution_count": 77,
     "metadata": {},
     "output_type": "execute_result"
    }
   ],
   "source": [
    "table_verbs.head()\n",
    "# 思考：有没有更加好的方法？"
   ]
  },
  {
   "cell_type": "code",
   "execution_count": 75,
   "metadata": {
    "code_folding": []
   },
   "outputs": [
    {
     "data": {
      "text/plain": [
       "['TXT小说天堂https://www.xstt5.com，',\n",
       " '最有文艺气息的文学网站，',\n",
       " '提供经典的文学名著、武侠小说、言情小说、人文社科类书籍在线阅读，',\n",
       " '所有TXT电子书手机免费下载阅读，',\n",
       " '我们提供给您的小说不求最多，',\n",
       " '但求最经典最完整第一回\\u3000甄士隐梦幻识通灵\\u3000贾雨村风尘怀闺秀此开卷第一回也。',\n",
       " '作者自云：因曾历过一番梦幻之后，',\n",
       " '故将真事隐去，',\n",
       " '而借“通灵”之说，',\n",
       " '撰此《石头记》一书也。',\n",
       " '故曰“甄士隐”云云。',\n",
       " '但书中所记何事何人？',\n",
       " '自又云：“今风尘碌碌，',\n",
       " '一事无成，',\n",
       " '忽念及当日所有之女子，',\n",
       " '一一细考较去，',\n",
       " '觉其行止见识皆出于我之上。',\n",
       " '何我堂堂须眉，',\n",
       " '诚不若彼裙钗哉？',\n",
       " '实愧则有馀，',\n",
       " '悔又无益之大无可如何之日也！',\n",
       " '当此，',\n",
       " '则自欲将已往所赖天恩祖德，',\n",
       " '锦衣纨袴之时，',\n",
       " '饫甘餍肥之日，',\n",
       " '背父兄教育之恩，',\n",
       " '负师友规训之德，',\n",
       " '以至今日一技无成，',\n",
       " '半生潦倒之罪，',\n",
       " '编述一集，',\n",
       " '以告天下人：我之罪固不免，',\n",
       " '然闺阁中本自历历有人，',\n",
       " '万不可因我之不肖，',\n",
       " '自护己短，',\n",
       " '一并使其泯灭也。',\n",
       " '虽今日之茅椽蓬牖，',\n",
       " '瓦灶绳床，',\n",
       " '其晨夕风露，',\n",
       " '阶柳庭花，',\n",
       " '亦未有妨我之襟怀笔墨者。',\n",
       " '虽我未学，',\n",
       " '下笔无文，',\n",
       " '又何妨用假语村言，',\n",
       " '敷演出一段故事来，',\n",
       " '亦可使闺阁昭传，',\n",
       " '复可悦世之目，',\n",
       " '破人愁闷，',\n",
       " '不亦宜乎？”',\n",
       " '故曰“贾雨村云云。',\n",
       " '此回中凡用“梦”用“幻”等字，',\n",
       " '是提醒阅者眼目，',\n",
       " '亦是此书立意本旨。',\n",
       " '列位看官：你道此书从何而来？',\n",
       " '说起根由虽近荒唐，',\n",
       " '细按则深有趣味。',\n",
       " '待在下将此来历注明，',\n",
       " '方使阅者了然不惑。',\n",
       " '原来女娲氏炼石补天之时，',\n",
       " '于大荒山无稽崖炼成高经十二丈，',\n",
       " '方经二十四丈顽石三万六千五百零一块。',\n",
       " '娲皇氏只用了三万六千五百块，',\n",
       " '只单单剩了一块未用，',\n",
       " '便弃在此山青埂峰下。',\n",
       " '谁知此石自经煅炼之后，',\n",
       " '灵性已通，',\n",
       " '因见众石俱得补天，',\n",
       " '独自己无材不堪入选，',\n",
       " '遂自怨自叹，',\n",
       " '日夜悲号惭愧。',\n",
       " '一日，',\n",
       " '正当嗟悼之际，',\n",
       " '俄见一僧一道远远而来，',\n",
       " '生得骨格不凡，',\n",
       " '丰神迥异，',\n",
       " '说说笑笑来至峰下，',\n",
       " '坐于石边高谈快论。',\n",
       " '先是说些云山雾海神仙玄幻之事，',\n",
       " '后便说到红尘中荣华富贵；此石听了，',\n",
       " '不觉打动凡心，',\n",
       " '也想要到人间去享一享这荣华富贵，',\n",
       " '但自恨粗蠢，',\n",
       " '不得已，',\n",
       " '便口吐人言，',\n",
       " '向那僧道说道：“大师，',\n",
       " '弟子蠢物，',\n",
       " '不能见礼了。',\n",
       " '适闻二位谈那人世间荣耀繁华，',\n",
       " '心切慕之。',\n",
       " '弟子质虽粗蠢，',\n",
       " '性却稍通；况见二师仙形道体，',\n",
       " '定非凡品，',\n",
       " '必有补天济世之材，',\n",
       " '利物济人之德。',\n",
       " '如蒙发一点慈心，',\n",
       " '携带弟子得入红尘，',\n",
       " '在那富贵场中，',\n",
       " '温柔乡里受享几年，',\n",
       " '自当永佩洪恩，',\n",
       " '万劫不忘也。”',\n",
       " '二仙师听毕，',\n",
       " '齐憨笑道：“善哉，',\n",
       " '善哉']"
      ]
     },
     "execution_count": 75,
     "metadata": {},
     "output_type": "execute_result"
    }
   ],
   "source": [
    "import re\n",
    "\n",
    "# 实现精准句子分割\n",
    "def cut_sent(para):\n",
    "    para = re.sub('([，。！？\\?])([^”’])', r\"\\1\\n\\2\", para)  \n",
    "    # \\1表示反向引用，\\2也表示反向引用，作用是当两个占位符\n",
    "    # 单字符断句符\n",
    "    \n",
    "    para = re.sub('(\\.{6})([^”’])', r\"\\1\\n\\2\", para)  \n",
    "    # 英文省略号\n",
    "    \n",
    "    para = re.sub('(\\…{2})([^”’])', r\"\\1\\n\\2\", para)  \n",
    "    # 中文省略号\n",
    "    \n",
    "    para = re.sub('([。！？\\?][”’])([^，。！？\\?])', r'\\1\\n\\2', para)\n",
    "    # 如果双引号前有终止符，那么双引号才是句子的终点，把分句符\\n放到双引号后。\n",
    "    # 注意前面几句，小心保留了双引号\n",
    "    \n",
    "    para = re.sub(\" \",\"\",para)\n",
    "    para = para.strip()  \n",
    "    # 段尾如果有多余的\\n就去掉它\n",
    "    \n",
    "    return para.split(\"\\n\")\n",
    "\n",
    "cut_sent(corpus[0:1000])"
   ]
  },
  {
   "cell_type": "code",
   "execution_count": null,
   "metadata": {},
   "outputs": [],
   "source": [
    "# 作业：\n",
    "# 能否把红楼梦的每一回分解出来？并且把每一回中出现最多的人物给找出来？"
   ]
  },
  {
   "cell_type": "code",
   "execution_count": null,
   "metadata": {},
   "outputs": [],
   "source": []
  }
 ],
 "metadata": {
  "kernelspec": {
   "display_name": "Python 3",
   "language": "python",
   "name": "python3"
  },
  "language_info": {
   "codemirror_mode": {
    "name": "ipython",
    "version": 3
   },
   "file_extension": ".py",
   "mimetype": "text/x-python",
   "name": "python",
   "nbconvert_exporter": "python",
   "pygments_lexer": "ipython3",
   "version": "3.7.3"
  },
  "latex_envs": {
   "LaTeX_envs_menu_present": true,
   "autoclose": false,
   "autocomplete": true,
   "bibliofile": "biblio.bib",
   "cite_by": "apalike",
   "current_citInitial": 1,
   "eqLabelWithNumbers": true,
   "eqNumInitial": 1,
   "hotkeys": {
    "equation": "Ctrl-E",
    "itemize": "Ctrl-I"
   },
   "labels_anchors": false,
   "latex_user_defs": false,
   "report_style_numbering": false,
   "user_envs_cfg": false
  },
  "toc": {
   "base_numbering": 1,
   "nav_menu": {},
   "number_sections": true,
   "sideBar": true,
   "skip_h1_title": false,
   "title_cell": "Table of Contents",
   "title_sidebar": "Contents",
   "toc_cell": false,
   "toc_position": {},
   "toc_section_display": true,
   "toc_window_display": true
  }
 },
 "nbformat": 4,
 "nbformat_minor": 2
}
