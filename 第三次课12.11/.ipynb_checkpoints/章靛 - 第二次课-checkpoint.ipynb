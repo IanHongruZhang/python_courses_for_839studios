{
 "cells": [
  {
   "cell_type": "markdown",
   "metadata": {},
   "source": [
    "### 1.数据类型\n",
    "\n",
    "题目：生成一个5位数，要求：一、求它是几位数，二、逆序打印出各位数字。\n",
    "\n",
    "最后输出要求：[5,25341]"
   ]
  },
  {
   "cell_type": "code",
   "execution_count": 18,
   "metadata": {},
   "outputs": [
    {
     "name": "stdout",
     "output_type": "stream",
     "text": [
      "[5, 30719]\n"
     ]
    }
   ],
   "source": [
    "import random\n",
    "num = random.sample([\"0\",\"1\",\"2\",\"3\",\"4\",\"5\",\"6\",\"7\",\"8\",\"9\"],5)\n",
    "num.reverse() #reverse()函数，可以处理列表的反转\n",
    "print([len(num),int(''.join(num))])\n"
   ]
  },
  {
   "cell_type": "markdown",
   "metadata": {},
   "source": [
    "### 2.字符串\n",
    "题目：反转字符串，输入\"hello\"，输出\"olleh\"\n",
    "\n",
    "最后要求输出：\"olleh\"，使用三种方法。"
   ]
  },
  {
   "cell_type": "code",
   "execution_count": 9,
   "metadata": {},
   "outputs": [
    {
     "data": {
      "text/plain": [
       "'olleh'"
      ]
     },
     "execution_count": 9,
     "metadata": {},
     "output_type": "execute_result"
    }
   ],
   "source": [
    "string = \"hello\"\n",
    "string[::-1]"
   ]
  },
  {
   "cell_type": "code",
   "execution_count": 34,
   "metadata": {},
   "outputs": [
    {
     "name": "stdout",
     "output_type": "stream",
     "text": [
      "olleh\n"
     ]
    }
   ],
   "source": [
    "string = \"hello\"\n",
    "l = list(string)\n",
    "l.reverse()\n",
    "print(\"\".join(l))"
   ]
  },
  {
   "cell_type": "code",
   "execution_count": 14,
   "metadata": {},
   "outputs": [
    {
     "data": {
      "text/plain": [
       "'olleh'"
      ]
     },
     "execution_count": 14,
     "metadata": {},
     "output_type": "execute_result"
    }
   ],
   "source": [
    "#简单的说就是遍历序列s，放入第一个参数的函数中执行，执行之后结果作为函数的第一个参数，序列的下一个元素作为第二个参数，再次运算\n",
    "#比如第一次，x='1',y='2';第二次：x='21',y='3';第三次：x='321',y='4'...  没有很懂\n",
    "from functools import reduce\n",
    "def reverse (s):\n",
    "    return reduce(lambda x,y:y+x,s)\n",
    "reverse(\"hello\")"
   ]
  },
  {
   "cell_type": "markdown",
   "metadata": {},
   "source": [
    "### 3.循环\n",
    "\n",
    "题目：有四个数字：1、2、3、4，能组成多少个互不相同且无重复数字的三位数？各是多少？\n",
    "最后要求输出：[123,124,234,134,......]"
   ]
  },
  {
   "cell_type": "code",
   "execution_count": 20,
   "metadata": {},
   "outputs": [
    {
     "name": "stdout",
     "output_type": "stream",
     "text": [
      "1 2 3\n",
      "1 2 4\n",
      "1 3 2\n",
      "1 3 4\n",
      "1 4 2\n",
      "1 4 3\n",
      "2 1 3\n",
      "2 1 4\n",
      "2 3 1\n",
      "2 3 4\n",
      "2 4 1\n",
      "2 4 3\n",
      "3 1 2\n",
      "3 1 4\n",
      "3 2 1\n",
      "3 2 4\n",
      "3 4 1\n",
      "3 4 2\n",
      "4 1 2\n",
      "4 1 3\n",
      "4 2 1\n",
      "4 2 3\n",
      "4 3 1\n",
      "4 3 2\n",
      "[]\n"
     ]
    }
   ],
   "source": [
    "i,j,k,l = 1,2,3,4\n",
    "res = []\n",
    "for i in range(1,5):\n",
    "    for j in range(1,5):\n",
    "        for k in range(1,5):\n",
    "            if i != j and i != k and k != j:\n",
    "                print(i,j,k)\n",
    "print(res)"
   ]
  },
  {
   "cell_type": "markdown",
   "metadata": {},
   "source": [
    "### 4.列表\n",
    "\n",
    "题目：给定按相反的顺序输出列表的值，并且去重。\n",
    "\n",
    "最后要求输出：相反的list,且不能有重复。"
   ]
  },
  {
   "cell_type": "code",
   "execution_count": 112,
   "metadata": {},
   "outputs": [
    {
     "name": "stdout",
     "output_type": "stream",
     "text": [
      "[3, 7, 2, 6, 1, 4]\n"
     ]
    }
   ],
   "source": [
    "li = [4, 3, 2, 1, 1, 2, 3, 6, 2, 2, 3, 6, 2, 3, 7, 3, 3]\n",
    "li.reverse()\n",
    "li2 = []\n",
    "for i in li:\n",
    "    if i not in li2:\n",
    "        li2.append(i)\n",
    "print(li2)\n",
    "#li2.sort(key=li.index)\n"
   ]
  },
  {
   "cell_type": "markdown",
   "metadata": {},
   "source": [
    "### 5.函数\n",
    "给定一个name_list = ['adam', 'LISA', 'barT'],输出首字母大写，后续字母小写的list\n",
    "\n",
    "\n",
    "最后要求输出name_list = ['Adam', 'List', 'bart']"
   ]
  },
  {
   "cell_type": "code",
   "execution_count": 46,
   "metadata": {},
   "outputs": [
    {
     "name": "stdout",
     "output_type": "stream",
     "text": [
      "['Adam', 'Lisa', 'Bart']\n"
     ]
    }
   ],
   "source": [
    "def normalize(name):\n",
    "    return name.capitalize()    \n",
    "L1=['adam','LISA','barT']\n",
    "L2=list(map(normalize,L1))\n",
    "print(L2)"
   ]
  },
  {
   "cell_type": "markdown",
   "metadata": {},
   "source": [
    "### 6.lambda函数\n",
    "\n",
    "题目：请将列表[1,2,3,4,5]使用python方法转变成[1,4,9,16,25]。然后提取大于10的数，最终输出[16,25]\n",
    "\n",
    "最后要求输出:[16,25]，必须使用lambda方法。"
   ]
  },
  {
   "cell_type": "code",
   "execution_count": 64,
   "metadata": {},
   "outputs": [
    {
     "name": "stdout",
     "output_type": "stream",
     "text": [
      "[16, 25]\n"
     ]
    }
   ],
   "source": [
    "num_list = [1, 2, 3, 4, 5]\n",
    "print([x for x in list(map(lambda x: x * x, num_list)) if x > 10])"
   ]
  },
  {
   "cell_type": "code",
   "execution_count": 82,
   "metadata": {},
   "outputs": [
    {
     "name": "stdout",
     "output_type": "stream",
     "text": [
      "[16, 25]\n"
     ]
    }
   ],
   "source": [
    "num_list = [1, 2, 3, 4, 5]\n",
    "num_list2 = list(map(lambda x: x ** 2,num_list))\n",
    "#print(num_list2)\n",
    "res = []\n",
    "for i in num_list2:\n",
    "    if i > 10:\n",
    "        res.append(i)\n",
    "print(res)"
   ]
  },
  {
   "cell_type": "code",
   "execution_count": 48,
   "metadata": {},
   "outputs": [
    {
     "name": "stdout",
     "output_type": "stream",
     "text": [
      "[16, 25]\n"
     ]
    }
   ],
   "source": [
    "li = [1,2,3,4,5]\n",
    "result = []\n",
    "for i in li:\n",
    "    i = i**2\n",
    "    if i > 10:\n",
    "        result.append(i)\n",
    "print(result)   "
   ]
  },
  {
   "cell_type": "code",
   "execution_count": null,
   "metadata": {},
   "outputs": [],
   "source": []
  }
 ],
 "metadata": {
  "kernelspec": {
   "display_name": "Python 3",
   "language": "python",
   "name": "python3"
  },
  "language_info": {
   "codemirror_mode": {
    "name": "ipython",
    "version": 3
   },
   "file_extension": ".py",
   "mimetype": "text/x-python",
   "name": "python",
   "nbconvert_exporter": "python",
   "pygments_lexer": "ipython3",
   "version": "3.7.3"
  },
  "latex_envs": {
   "LaTeX_envs_menu_present": true,
   "autoclose": false,
   "autocomplete": true,
   "bibliofile": "biblio.bib",
   "cite_by": "apalike",
   "current_citInitial": 1,
   "eqLabelWithNumbers": true,
   "eqNumInitial": 1,
   "hotkeys": {
    "equation": "Ctrl-E",
    "itemize": "Ctrl-I"
   },
   "labels_anchors": false,
   "latex_user_defs": false,
   "report_style_numbering": false,
   "user_envs_cfg": false
  },
  "toc": {
   "base_numbering": 1,
   "nav_menu": {},
   "number_sections": true,
   "sideBar": true,
   "skip_h1_title": false,
   "title_cell": "Table of Contents",
   "title_sidebar": "Contents",
   "toc_cell": false,
   "toc_position": {},
   "toc_section_display": true,
   "toc_window_display": false
  }
 },
 "nbformat": 4,
 "nbformat_minor": 2
}
