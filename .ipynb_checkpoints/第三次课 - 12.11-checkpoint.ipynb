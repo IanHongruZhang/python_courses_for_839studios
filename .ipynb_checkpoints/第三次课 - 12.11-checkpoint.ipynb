{
 "cells": [
  {
   "cell_type": "markdown",
   "metadata": {},
   "source": [
    "#### 第三次课\n",
    "1.前15分钟：作业的讲解。\n",
    "\n",
    "2.后45分钟，正则表达式的学习。\n",
    "\n",
    "2.2.用在哪些方面？"
   ]
  },
  {
   "cell_type": "markdown",
   "metadata": {},
   "source": [
    "#### 正则表达式\n",
    "1.什么是正则表达式。\n",
    "\n",
    "2.怎么学习正则表达式。\n",
    "\n",
    "3.常用的正则表达式写法。"
   ]
  },
  {
   "cell_type": "markdown",
   "metadata": {},
   "source": [
    "> 如果你不觉得正则表达式很难读写的话，要么你是一个天才，要么，你不是地球人。正则表达式的语法很令人头疼，即使对经常使用它的人来说也是如此。由于难于读写，容易出错，所以找一种工具对正则表达式进行测试是很有必要的。\n",
    "\n",
    "![正则](https://pic4.zhimg.com/80/1ed36c3711d5feaa705753562bb6bcfb_hd.jpg)"
   ]
  },
  {
   "cell_type": "code",
   "execution_count": 4,
   "metadata": {},
   "outputs": [
    {
     "name": "stdout",
     "output_type": "stream",
     "text": [
      "cat\n"
     ]
    }
   ],
   "source": [
    "import re\n",
    "text = \"The cat sat on the mat\"\n",
    "\n",
    "pattern = re.compile(\"cat\")\n",
    "cat = re.search(pattern,text).group()\n",
    "print(cat)\n",
    "\n",
    "# re.sub(\"\")\n",
    "# re.match(\"\")\n",
    "# re.findall(\"\")\n",
    "# re.finditer(\"\")"
   ]
  },
  {
   "cell_type": "code",
   "execution_count": null,
   "metadata": {},
   "outputs": [],
   "source": [
    "# 四个基本符号：+ . * ?\n",
    "# 一堆非基本符号：\\f \\s \\S \n",
    "# 特殊字符：$\n",
    "\n",
    "# .*?：匹配\n",
    "# 汉字匹配\n"
   ]
  }
 ],
 "metadata": {
  "kernelspec": {
   "display_name": "Python 3",
   "language": "python",
   "name": "python3"
  },
  "language_info": {
   "codemirror_mode": {
    "name": "ipython",
    "version": 3
   },
   "file_extension": ".py",
   "mimetype": "text/x-python",
   "name": "python",
   "nbconvert_exporter": "python",
   "pygments_lexer": "ipython3",
   "version": "3.7.3"
  },
  "latex_envs": {
   "LaTeX_envs_menu_present": true,
   "autoclose": false,
   "autocomplete": true,
   "bibliofile": "biblio.bib",
   "cite_by": "apalike",
   "current_citInitial": 1,
   "eqLabelWithNumbers": true,
   "eqNumInitial": 1,
   "hotkeys": {
    "equation": "Ctrl-E",
    "itemize": "Ctrl-I"
   },
   "labels_anchors": false,
   "latex_user_defs": false,
   "report_style_numbering": false,
   "user_envs_cfg": false
  },
  "toc": {
   "base_numbering": 1,
   "nav_menu": {},
   "number_sections": true,
   "sideBar": true,
   "skip_h1_title": false,
   "title_cell": "Table of Contents",
   "title_sidebar": "Contents",
   "toc_cell": false,
   "toc_position": {},
   "toc_section_display": true,
   "toc_window_display": true
  }
 },
 "nbformat": 4,
 "nbformat_minor": 2
}
