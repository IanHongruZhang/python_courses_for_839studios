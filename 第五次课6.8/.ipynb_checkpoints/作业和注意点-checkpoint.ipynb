{
 "cells": [
  {
   "cell_type": "markdown",
   "metadata": {},
   "source": [
    "#### 关于本节课注意点：\n",
    "* 大家可以直接上手作业，遇到解决不了的问题再回头来看一下书。<br/> \n",
    "\n",
    "\n",
    "* 如果遇到很多自己的问题都解决不了，就回头把书上的第五章给重新码一下，这个就是熟能生巧的工作。<br/> \n",
    "\n",
    "\n",
    "* 作业也有可能涉及到后面章节的知识，可以提前码起来，这几次我我只是想把书上5到10章全部过一遍，把用和不用的地方指出来。<br/> \n",
    "\n",
    "#### 作业\n",
    "* 本次作业的说明在lab2.pdf,lab3.pdf两个pdf上，<br/> \n",
    "\n",
    "\n",
    "\n",
    "* *** 大家可以任意选择你想使用的形式（pandas或者直接使用纯python代码解决问题），也可以直接只回答lab2上所提出的那些问题之一。*** <br/> \n",
    "\n",
    "\n",
    "\n",
    "* 作业可以以.ipynb的jupyter记事本文件提交，也可以直接给一个像作业那样的pdf或示例中的html文件<br/> \n",
    "\n",
    "\n",
    "------------------------------------\n",
    "* PS：如果使用纯python代码来做这个作业，一定要记住下5-core的数据和对应的metadata <br/> "
   ]
  },
  {
   "cell_type": "code",
   "execution_count": null,
   "metadata": {},
   "outputs": [],
   "source": [
    "# 打开json的语句\n",
    "import pandas as pd\n",
    "\n",
    "products = pd.read_json()\n",
    "reviews = pd.read_json()"
   ]
  },
  {
   "cell_type": "code",
   "execution_count": null,
   "metadata": {},
   "outputs": [],
   "source": []
  }
 ],
 "metadata": {
  "kernelspec": {
   "display_name": "Python 3",
   "language": "python",
   "name": "python3"
  },
  "language_info": {
   "codemirror_mode": {
    "name": "ipython",
    "version": 3
   },
   "file_extension": ".py",
   "mimetype": "text/x-python",
   "name": "python",
   "nbconvert_exporter": "python",
   "pygments_lexer": "ipython3",
   "version": "3.7.3"
  },
  "latex_envs": {
   "LaTeX_envs_menu_present": true,
   "autoclose": false,
   "autocomplete": true,
   "bibliofile": "biblio.bib",
   "cite_by": "apalike",
   "current_citInitial": 1,
   "eqLabelWithNumbers": true,
   "eqNumInitial": 1,
   "hotkeys": {
    "equation": "Ctrl-E",
    "itemize": "Ctrl-I"
   },
   "labels_anchors": false,
   "latex_user_defs": false,
   "report_style_numbering": false,
   "user_envs_cfg": false
  },
  "toc": {
   "base_numbering": 1,
   "nav_menu": {},
   "number_sections": true,
   "sideBar": true,
   "skip_h1_title": false,
   "title_cell": "Table of Contents",
   "title_sidebar": "Contents",
   "toc_cell": false,
   "toc_position": {},
   "toc_section_display": true,
   "toc_window_display": false
  }
 },
 "nbformat": 4,
 "nbformat_minor": 2
}
